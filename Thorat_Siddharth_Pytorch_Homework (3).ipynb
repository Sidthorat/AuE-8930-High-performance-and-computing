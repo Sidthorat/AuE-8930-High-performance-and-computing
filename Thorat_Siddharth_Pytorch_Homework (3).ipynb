{
  "nbformat": 4,
  "nbformat_minor": 0,
  "metadata": {
    "colab": {
      "provenance": [],
      "collapsed_sections": []
    },
    "kernelspec": {
      "name": "python3",
      "display_name": "Python 3"
    },
    "gpuClass": "standard",
    "widgets": {
      "application/vnd.jupyter.widget-state+json": {
        "ed079e9256fa4e39a98c3154eb4ad898": {
          "model_module": "@jupyter-widgets/controls",
          "model_name": "HBoxModel",
          "model_module_version": "1.5.0",
          "state": {
            "_dom_classes": [],
            "_model_module": "@jupyter-widgets/controls",
            "_model_module_version": "1.5.0",
            "_model_name": "HBoxModel",
            "_view_count": null,
            "_view_module": "@jupyter-widgets/controls",
            "_view_module_version": "1.5.0",
            "_view_name": "HBoxView",
            "box_style": "",
            "children": [
              "IPY_MODEL_01b9344013184ef38b1e8048e96c389a",
              "IPY_MODEL_d7baccaf95114081b1f134e85e161c70",
              "IPY_MODEL_172494795a5f434186134dfaf0b40295"
            ],
            "layout": "IPY_MODEL_2bdac093b2cd4e4bbb7e5887c9fd6e74"
          }
        },
        "01b9344013184ef38b1e8048e96c389a": {
          "model_module": "@jupyter-widgets/controls",
          "model_name": "HTMLModel",
          "model_module_version": "1.5.0",
          "state": {
            "_dom_classes": [],
            "_model_module": "@jupyter-widgets/controls",
            "_model_module_version": "1.5.0",
            "_model_name": "HTMLModel",
            "_view_count": null,
            "_view_module": "@jupyter-widgets/controls",
            "_view_module_version": "1.5.0",
            "_view_name": "HTMLView",
            "description": "",
            "description_tooltip": null,
            "layout": "IPY_MODEL_25c14042a1ce479c9c60e95cf037469d",
            "placeholder": "​",
            "style": "IPY_MODEL_6b838eeb513e4d4a8f07494e6c1d9044",
            "value": "100%"
          }
        },
        "d7baccaf95114081b1f134e85e161c70": {
          "model_module": "@jupyter-widgets/controls",
          "model_name": "FloatProgressModel",
          "model_module_version": "1.5.0",
          "state": {
            "_dom_classes": [],
            "_model_module": "@jupyter-widgets/controls",
            "_model_module_version": "1.5.0",
            "_model_name": "FloatProgressModel",
            "_view_count": null,
            "_view_module": "@jupyter-widgets/controls",
            "_view_module_version": "1.5.0",
            "_view_name": "ProgressView",
            "bar_style": "success",
            "description": "",
            "description_tooltip": null,
            "layout": "IPY_MODEL_b19a7aec54d44d78b5ef1da5b10da185",
            "max": 170498071,
            "min": 0,
            "orientation": "horizontal",
            "style": "IPY_MODEL_0b6d97ca08ca45ffa9ecc44fe27a6e1b",
            "value": 170498071
          }
        },
        "172494795a5f434186134dfaf0b40295": {
          "model_module": "@jupyter-widgets/controls",
          "model_name": "HTMLModel",
          "model_module_version": "1.5.0",
          "state": {
            "_dom_classes": [],
            "_model_module": "@jupyter-widgets/controls",
            "_model_module_version": "1.5.0",
            "_model_name": "HTMLModel",
            "_view_count": null,
            "_view_module": "@jupyter-widgets/controls",
            "_view_module_version": "1.5.0",
            "_view_name": "HTMLView",
            "description": "",
            "description_tooltip": null,
            "layout": "IPY_MODEL_7d786f4fdeee48e6a351b20c357bba30",
            "placeholder": "​",
            "style": "IPY_MODEL_5f73ecae210a41198d95baaeff23b02e",
            "value": " 170498071/170498071 [00:02&lt;00:00, 104748438.53it/s]"
          }
        },
        "2bdac093b2cd4e4bbb7e5887c9fd6e74": {
          "model_module": "@jupyter-widgets/base",
          "model_name": "LayoutModel",
          "model_module_version": "1.2.0",
          "state": {
            "_model_module": "@jupyter-widgets/base",
            "_model_module_version": "1.2.0",
            "_model_name": "LayoutModel",
            "_view_count": null,
            "_view_module": "@jupyter-widgets/base",
            "_view_module_version": "1.2.0",
            "_view_name": "LayoutView",
            "align_content": null,
            "align_items": null,
            "align_self": null,
            "border": null,
            "bottom": null,
            "display": null,
            "flex": null,
            "flex_flow": null,
            "grid_area": null,
            "grid_auto_columns": null,
            "grid_auto_flow": null,
            "grid_auto_rows": null,
            "grid_column": null,
            "grid_gap": null,
            "grid_row": null,
            "grid_template_areas": null,
            "grid_template_columns": null,
            "grid_template_rows": null,
            "height": null,
            "justify_content": null,
            "justify_items": null,
            "left": null,
            "margin": null,
            "max_height": null,
            "max_width": null,
            "min_height": null,
            "min_width": null,
            "object_fit": null,
            "object_position": null,
            "order": null,
            "overflow": null,
            "overflow_x": null,
            "overflow_y": null,
            "padding": null,
            "right": null,
            "top": null,
            "visibility": null,
            "width": null
          }
        },
        "25c14042a1ce479c9c60e95cf037469d": {
          "model_module": "@jupyter-widgets/base",
          "model_name": "LayoutModel",
          "model_module_version": "1.2.0",
          "state": {
            "_model_module": "@jupyter-widgets/base",
            "_model_module_version": "1.2.0",
            "_model_name": "LayoutModel",
            "_view_count": null,
            "_view_module": "@jupyter-widgets/base",
            "_view_module_version": "1.2.0",
            "_view_name": "LayoutView",
            "align_content": null,
            "align_items": null,
            "align_self": null,
            "border": null,
            "bottom": null,
            "display": null,
            "flex": null,
            "flex_flow": null,
            "grid_area": null,
            "grid_auto_columns": null,
            "grid_auto_flow": null,
            "grid_auto_rows": null,
            "grid_column": null,
            "grid_gap": null,
            "grid_row": null,
            "grid_template_areas": null,
            "grid_template_columns": null,
            "grid_template_rows": null,
            "height": null,
            "justify_content": null,
            "justify_items": null,
            "left": null,
            "margin": null,
            "max_height": null,
            "max_width": null,
            "min_height": null,
            "min_width": null,
            "object_fit": null,
            "object_position": null,
            "order": null,
            "overflow": null,
            "overflow_x": null,
            "overflow_y": null,
            "padding": null,
            "right": null,
            "top": null,
            "visibility": null,
            "width": null
          }
        },
        "6b838eeb513e4d4a8f07494e6c1d9044": {
          "model_module": "@jupyter-widgets/controls",
          "model_name": "DescriptionStyleModel",
          "model_module_version": "1.5.0",
          "state": {
            "_model_module": "@jupyter-widgets/controls",
            "_model_module_version": "1.5.0",
            "_model_name": "DescriptionStyleModel",
            "_view_count": null,
            "_view_module": "@jupyter-widgets/base",
            "_view_module_version": "1.2.0",
            "_view_name": "StyleView",
            "description_width": ""
          }
        },
        "b19a7aec54d44d78b5ef1da5b10da185": {
          "model_module": "@jupyter-widgets/base",
          "model_name": "LayoutModel",
          "model_module_version": "1.2.0",
          "state": {
            "_model_module": "@jupyter-widgets/base",
            "_model_module_version": "1.2.0",
            "_model_name": "LayoutModel",
            "_view_count": null,
            "_view_module": "@jupyter-widgets/base",
            "_view_module_version": "1.2.0",
            "_view_name": "LayoutView",
            "align_content": null,
            "align_items": null,
            "align_self": null,
            "border": null,
            "bottom": null,
            "display": null,
            "flex": null,
            "flex_flow": null,
            "grid_area": null,
            "grid_auto_columns": null,
            "grid_auto_flow": null,
            "grid_auto_rows": null,
            "grid_column": null,
            "grid_gap": null,
            "grid_row": null,
            "grid_template_areas": null,
            "grid_template_columns": null,
            "grid_template_rows": null,
            "height": null,
            "justify_content": null,
            "justify_items": null,
            "left": null,
            "margin": null,
            "max_height": null,
            "max_width": null,
            "min_height": null,
            "min_width": null,
            "object_fit": null,
            "object_position": null,
            "order": null,
            "overflow": null,
            "overflow_x": null,
            "overflow_y": null,
            "padding": null,
            "right": null,
            "top": null,
            "visibility": null,
            "width": null
          }
        },
        "0b6d97ca08ca45ffa9ecc44fe27a6e1b": {
          "model_module": "@jupyter-widgets/controls",
          "model_name": "ProgressStyleModel",
          "model_module_version": "1.5.0",
          "state": {
            "_model_module": "@jupyter-widgets/controls",
            "_model_module_version": "1.5.0",
            "_model_name": "ProgressStyleModel",
            "_view_count": null,
            "_view_module": "@jupyter-widgets/base",
            "_view_module_version": "1.2.0",
            "_view_name": "StyleView",
            "bar_color": null,
            "description_width": ""
          }
        },
        "7d786f4fdeee48e6a351b20c357bba30": {
          "model_module": "@jupyter-widgets/base",
          "model_name": "LayoutModel",
          "model_module_version": "1.2.0",
          "state": {
            "_model_module": "@jupyter-widgets/base",
            "_model_module_version": "1.2.0",
            "_model_name": "LayoutModel",
            "_view_count": null,
            "_view_module": "@jupyter-widgets/base",
            "_view_module_version": "1.2.0",
            "_view_name": "LayoutView",
            "align_content": null,
            "align_items": null,
            "align_self": null,
            "border": null,
            "bottom": null,
            "display": null,
            "flex": null,
            "flex_flow": null,
            "grid_area": null,
            "grid_auto_columns": null,
            "grid_auto_flow": null,
            "grid_auto_rows": null,
            "grid_column": null,
            "grid_gap": null,
            "grid_row": null,
            "grid_template_areas": null,
            "grid_template_columns": null,
            "grid_template_rows": null,
            "height": null,
            "justify_content": null,
            "justify_items": null,
            "left": null,
            "margin": null,
            "max_height": null,
            "max_width": null,
            "min_height": null,
            "min_width": null,
            "object_fit": null,
            "object_position": null,
            "order": null,
            "overflow": null,
            "overflow_x": null,
            "overflow_y": null,
            "padding": null,
            "right": null,
            "top": null,
            "visibility": null,
            "width": null
          }
        },
        "5f73ecae210a41198d95baaeff23b02e": {
          "model_module": "@jupyter-widgets/controls",
          "model_name": "DescriptionStyleModel",
          "model_module_version": "1.5.0",
          "state": {
            "_model_module": "@jupyter-widgets/controls",
            "_model_module_version": "1.5.0",
            "_model_name": "DescriptionStyleModel",
            "_view_count": null,
            "_view_module": "@jupyter-widgets/base",
            "_view_module_version": "1.2.0",
            "_view_name": "StyleView",
            "description_width": ""
          }
        }
      }
    },
    "accelerator": "GPU"
  },
  "cells": [
    {
      "cell_type": "markdown",
      "source": [
        "# Pytorch homework\n",
        "\n",
        "### Instructions\n",
        "- Make a copy of this notebook in your own Colab and complete the questions there.\n",
        "- You can add more cells if necessary. You may also add descriptions to your code, though it is not mandatory.\n",
        "- Make sure the notebook can run through by *Runtime -> Run all*. **Keep all cell outputs** for grading.\n",
        "- Submit the link of your notebook \n",
        "- Please **enable editing or comments** so that you can receive feedback from TAs.."
      ],
      "metadata": {
        "id": "6-6J5TGlT4FG"
      }
    },
    {
      "cell_type": "markdown",
      "source": [
        "[link text](https://)Install PyTorch and Skorch."
      ],
      "metadata": {
        "id": "hqJ4tM2XUF7u"
      }
    },
    {
      "cell_type": "code",
      "source": [
        "!pip install -q torch skorch torchvision torchtext"
      ],
      "metadata": {
        "colab": {
          "base_uri": "https://localhost:8080/"
        },
        "id": "nQqxscKsTSvf",
        "outputId": "086c36f3-3512-4f35-ef7f-164b392cd498"
      },
      "execution_count": 1,
      "outputs": [
        {
          "output_type": "stream",
          "name": "stdout",
          "text": [
            "\u001b[?25l\r\u001b[K     |█▊                              | 10 kB 33.1 MB/s eta 0:00:01\r\u001b[K     |███▌                            | 20 kB 37.7 MB/s eta 0:00:01\r\u001b[K     |█████▎                          | 30 kB 45.5 MB/s eta 0:00:01\r\u001b[K     |███████                         | 40 kB 34.9 MB/s eta 0:00:01\r\u001b[K     |████████▉                       | 51 kB 38.3 MB/s eta 0:00:01\r\u001b[K     |██████████▋                     | 61 kB 42.8 MB/s eta 0:00:01\r\u001b[K     |████████████▍                   | 71 kB 30.1 MB/s eta 0:00:01\r\u001b[K     |██████████████                  | 81 kB 31.7 MB/s eta 0:00:01\r\u001b[K     |███████████████▉                | 92 kB 33.8 MB/s eta 0:00:01\r\u001b[K     |█████████████████▋              | 102 kB 35.0 MB/s eta 0:00:01\r\u001b[K     |███████████████████▍            | 112 kB 35.0 MB/s eta 0:00:01\r\u001b[K     |█████████████████████▏          | 122 kB 35.0 MB/s eta 0:00:01\r\u001b[K     |███████████████████████         | 133 kB 35.0 MB/s eta 0:00:01\r\u001b[K     |████████████████████████▊       | 143 kB 35.0 MB/s eta 0:00:01\r\u001b[K     |██████████████████████████▌     | 153 kB 35.0 MB/s eta 0:00:01\r\u001b[K     |████████████████████████████▏   | 163 kB 35.0 MB/s eta 0:00:01\r\u001b[K     |██████████████████████████████  | 174 kB 35.0 MB/s eta 0:00:01\r\u001b[K     |███████████████████████████████▊| 184 kB 35.0 MB/s eta 0:00:01\r\u001b[K     |████████████████████████████████| 185 kB 35.0 MB/s \n",
            "\u001b[?25h"
          ]
        }
      ]
    },
    {
      "cell_type": "code",
      "source": [
        "import torch\n",
        "import torch.nn as nn\n",
        "import torch.nn.functional as F\n",
        "import torch.optim as optim\n",
        "import torchvision\n",
        "import skorch\n",
        "import sklearn\n",
        "import numpy as np\n",
        "import matplotlib.pyplot as plt"
      ],
      "metadata": {
        "id": "20PnRBXITStC"
      },
      "execution_count": 2,
      "outputs": []
    },
    {
      "cell_type": "markdown",
      "source": [
        "## 1. Tensor Operations (40 points)\n",
        "\n",
        "Tensor operations are important in deep learning models. In this part, you are required to implement some common tensor operations in PyTorch."
      ],
      "metadata": {
        "id": "gkgbsAdmUUd2"
      }
    },
    {
      "cell_type": "markdown",
      "source": [
        ":### 1) Tensor squeezing, unsqueezing and viewing"
      ],
      "metadata": {
        "id": "rcy7KC4PUV27"
      }
    },
    {
      "cell_type": "markdown",
      "source": [
        "Tensor squeezing, unsqueezing and viewing are important methods to change the dimension of a Tensor, and the corresponding functions are [torch.squeeze](https://pytorch.org/docs/stable/torch.html#torch.squeeze), [torch.unsqueeze](https://pytorch.org/docs/stable/torch.html#torch.unsqueeze) and [torch.Tensor.view](https://pytorch.org/docs/stable/tensors.html#torch.Tensor.view). Please read the documents of the functions, and finish the following practice."
      ],
      "metadata": {
        "id": "GfdJF3s1Uc33"
      }
    },
    {
      "cell_type": "code",
      "source": [
        "from re import X\n",
        "# x is a tensor with size being (3, 2)\n",
        "x = torch.Tensor([[1, 2], [3, 4], [5, 6]])\n",
        "print(x)\n",
        "x = torch.unsqueeze(x, -1) # Add two new dimensions to x by using the function torch.unsqueeze, so that the size of x becomes (3, 1, 2, 1).\n",
        "x =  torch.unsqueeze(x,1)\n",
        "print(x.shape)\n",
        "x = torch.squeeze(x, 1)# Remove the two dimensions justed added by using the function torch.squeeze, and change the size of x back to (3, 2).\n",
        "x = torch.squeeze(x, 2)\n",
        "print(x.shape)\n",
        "x = x.view(6)\n",
        "print(\"Tensor after resize: \", x)# x is now a two-dimensional tensor, or in other words a matrix. Now use the function torch.Tensor.view and change x to a one-dimensional vector with size being (6).\n",
        "print(x.shape)"
      ],
      "metadata": {
        "colab": {
          "base_uri": "https://localhost:8080/"
        },
        "id": "F-u2ja4tTSq0",
        "outputId": "7f6e7c58-c89b-4935-ec16-52c9e020fdff"
      },
      "execution_count": 3,
      "outputs": [
        {
          "output_type": "stream",
          "name": "stdout",
          "text": [
            "tensor([[1., 2.],\n",
            "        [3., 4.],\n",
            "        [5., 6.]])\n",
            "torch.Size([3, 1, 2, 1])\n",
            "torch.Size([3, 2])\n",
            "Tensor after resize:  tensor([1., 2., 3., 4., 5., 6.])\n",
            "torch.Size([6])\n"
          ]
        }
      ]
    },
    {
      "cell_type": "markdown",
      "source": [
        "### 2) Tensor concatenation and stack"
      ],
      "metadata": {
        "id": "ShVlFR4VUlBW"
      }
    },
    {
      "cell_type": "markdown",
      "source": [
        "Tensor concatenation and stack are operations to combine small tensors into big tensors. The corresponding functions are [torch.cat](https://pytorch.org/docs/stable/torch.html#torch.cat) and [torch.stack](https://pytorch.org/docs/stable/torch.html#torch.stack). Please read the documents of the functions, and finish the following practice."
      ],
      "metadata": {
        "id": "tLk2vYoFUmGt"
      }
    },
    {
      "cell_type": "code",
      "source": [
        "# x is a tensor with size being (3, 2)\n",
        "x = torch.Tensor([[1, 2], [3, 4], [5, 6]])\n",
        "x.size()\n",
        "# y is a tensor with size being (3, 2)\n",
        "y = torch.Tensor([[-1, -2], [-3, -4], [-5, -6]])\n",
        "\n",
        "# Our goal is to generate a tensor z with size as (2, 3, 2), and z[0,:,:] = x, z[1,:,:] = y.\n",
        "# Use torch.stack to generate such a z\n",
        "print(\"Stack tensors \")\n",
        "z = torch.stack((x,y), 0)\n",
        "print(\"the stack of z: \", z)\n",
        "print(z.shape)\n",
        "# Use torch.cat and torch.unsqueeze to generate such a z\n",
        "print(\"concatenate tensors \")\n",
        "z = torch.cat((x,y), 0)\n",
        "print(\"the torch.cat of z: \", z)\n",
        "print(z.shape)\n",
        "print(\"to unsqueeze the data\")\n",
        "z = torch.unsqueeze(z, 1)\n",
        "print(z.shape)"
      ],
      "metadata": {
        "colab": {
          "base_uri": "https://localhost:8080/"
        },
        "id": "p2lgIUvETSol",
        "outputId": "b775e1a4-e2e2-4816-cdfb-b70da5193c69"
      },
      "execution_count": 4,
      "outputs": [
        {
          "output_type": "stream",
          "name": "stdout",
          "text": [
            "Stack tensors \n",
            "the stack of z:  tensor([[[ 1.,  2.],\n",
            "         [ 3.,  4.],\n",
            "         [ 5.,  6.]],\n",
            "\n",
            "        [[-1., -2.],\n",
            "         [-3., -4.],\n",
            "         [-5., -6.]]])\n",
            "torch.Size([2, 3, 2])\n",
            "concatenate tensors \n",
            "the torch.cat of z:  tensor([[ 1.,  2.],\n",
            "        [ 3.,  4.],\n",
            "        [ 5.,  6.],\n",
            "        [-1., -2.],\n",
            "        [-3., -4.],\n",
            "        [-5., -6.]])\n",
            "torch.Size([6, 2])\n",
            "to unsqueeze the data\n",
            "torch.Size([6, 1, 2])\n"
          ]
        }
      ]
    },
    {
      "cell_type": "markdown",
      "source": [
        "### 3) Tensor expansion"
      ],
      "metadata": {
        "id": "Pj_20qiUUxsY"
      }
    },
    {
      "cell_type": "markdown",
      "source": [
        "Tensor expansion is to expand a tensor into a larger tensor along singleton dimensions. The corresponding functions are [torch.Tensor.expand](https://pytorch.org/docs/stable/tensors.html#torch.Tensor.expand) and [torch.Tensor.expand_as](https://pytorch.org/docs/stable/tensors.html#torch.Tensor.expand_as). Please read the documents of the functions, and finish the following practice. "
      ],
      "metadata": {
        "id": "qVNnKKa8UysQ"
      }
    },
    {
      "cell_type": "code",
      "source": [
        "# x is a tensor with size being (3)\n",
        "x = torch.Tensor([1, 2, 3])\n",
        "# Our goal is to generate a tensor z with size (2, 3), so that z[0,:,:] = x, z[1,:,:] = x.\n",
        "\n",
        "# [TO DO]\n",
        "# Change the size of x into (1, 3) by using torch.unsqueeze.\n",
        "print(\"to unsqueeze the data\")\n",
        "x = torch.unsqueeze(x,0)\n",
        "print(x.shape)\n",
        "\n",
        "# [TO DO]\n",
        "# Then expand the new tensor to the target tensor by using torch.Tensor.expand.\n",
        "\n",
        "exp = x.expand(3, -1)\n",
        "print(\"Expanded Tensor:\", exp)\n",
        "exp.size()"
      ],
      "metadata": {
        "colab": {
          "base_uri": "https://localhost:8080/"
        },
        "id": "DUdMOhdPTSmO",
        "outputId": "c0098674-6b55-4a22-b31c-2ce18a9da9eb"
      },
      "execution_count": 5,
      "outputs": [
        {
          "output_type": "stream",
          "name": "stdout",
          "text": [
            "to unsqueeze the data\n",
            "torch.Size([1, 3])\n",
            "Expanded Tensor: tensor([[1., 2., 3.],\n",
            "        [1., 2., 3.],\n",
            "        [1., 2., 3.]])\n"
          ]
        },
        {
          "output_type": "execute_result",
          "data": {
            "text/plain": [
              "torch.Size([3, 3])"
            ]
          },
          "metadata": {},
          "execution_count": 5
        }
      ]
    },
    {
      "cell_type": "markdown",
      "source": [
        "### 4) Tensor reduction in a given dimension"
      ],
      "metadata": {
        "id": "PD1NX2kBU7pF"
      }
    },
    {
      "cell_type": "markdown",
      "source": [
        "In deep learning, we often need to compute the mean/sum/max/min value in a given dimension of a tensor. Please read the document of [torch.mean](https://pytorch.org/docs/stable/torch.html#torch.mean), [torch.sum](https://pytorch.org/docs/stable/torch.html#torch.sum), [torch.max](https://pytorch.org/docs/stable/torch.html#torch.max), [torch.min](https://pytorch.org/docs/stable/torch.html#torch.min), [torch.topk](https://pytorch.org/docs/stable/torch.html#torch.topk), and finish the following practice."
      ],
      "metadata": {
        "id": "l7JHYKUwU8wV"
      }
    },
    {
      "cell_type": "code",
      "source": [
        "# x is a random tensor with size being (10, 50)\n",
        "x = torch.randn(10, 50)\n",
        "# Compute the mean value for each row of x.\n",
        "# You need to generate a tensor x_mean of size (10), and x_mean[k, :] is the mean value of the k-th row of x.\n",
        "print(\"mean value\")\n",
        "torch.mean(x)\n",
        "print(x)\n",
        "k=3\n",
        "x_m1 = x[k]\n",
        "print(x_m1)\n",
        "# Compute the sum value for each row of x.\n",
        "# You need to generate a tensor x_sum of size (10).\n",
        "print(\"Sum\")\n",
        "print(torch.sum(x, dim=0)) # size = [1, ncol]\n",
        "# Compute the max value for each row of x.\n",
        "# You need to generate a tensor x_max of size (10).\n",
        "print(\"Max\")\n",
        "print(torch.max(x))\n",
        "# Compute the min value for each row of x.\n",
        "# You need to generate a tensor x_min of size (10).\n",
        "print(\"Min\")\n",
        "print(torch.min(x))\n",
        "# Compute the top-5 values for each row of x.\n",
        "# You need to generate a tensor x_mean of size (10, 5), and x_top[k, :] is the top-5 values of each row in x.\n",
        "x_m2 = torch.randn(10, 5)\n",
        "print(\"x_mean value\")\n",
        "torch.mean(x_m2)\n",
        "print(x_m2)\n",
        "k=3\n",
        "x_m2 = x_m2[k]\n",
        "print(x_m2)"
      ],
      "metadata": {
        "colab": {
          "base_uri": "https://localhost:8080/"
        },
        "id": "OtV7-9gJTR9I",
        "outputId": "2b9a48bc-36c1-4652-d4f4-c49515df18d6"
      },
      "execution_count": 6,
      "outputs": [
        {
          "output_type": "stream",
          "name": "stdout",
          "text": [
            "mean value\n",
            "tensor([[-1.0370,  0.6617, -1.3204,  0.9978,  0.3649,  0.6650,  0.2017, -0.1225,\n",
            "         -1.2115,  1.1013, -1.5280,  0.1374,  0.8110,  1.5512, -1.2852,  1.2047,\n",
            "          1.8210, -0.7846, -0.6294, -0.2283, -0.3392, -0.1693,  0.6292,  1.7845,\n",
            "          0.6880,  1.4920,  1.3510, -0.9804, -1.2227,  0.1272, -0.6641,  0.2824,\n",
            "         -0.4899,  1.0900, -1.1007,  0.7768, -0.3700, -1.4946, -0.5286, -0.0059,\n",
            "         -0.8047, -2.2571,  0.8686, -0.3732,  0.1136, -0.8069, -0.0949, -1.2973,\n",
            "          1.4216,  0.8052],\n",
            "        [ 0.0245, -1.7028, -1.5955, -1.1110, -0.4370, -2.1496,  0.6211, -1.6971,\n",
            "         -0.4329,  1.4573, -0.6702,  0.3756, -0.1823, -0.2815, -1.9198, -0.6203,\n",
            "          0.8388, -0.1987,  1.6094, -0.7474, -1.6152,  0.3527, -0.5524,  0.1425,\n",
            "          1.0970, -0.7131,  0.2802, -0.6985, -0.9946,  0.5954, -1.0146, -0.6585,\n",
            "          0.6979, -0.5177,  1.2881, -0.9331, -1.1723,  1.2681,  0.1196,  0.0527,\n",
            "         -0.7293, -0.2371,  0.1011, -0.9832, -1.7605,  1.6343,  2.1214,  1.4125,\n",
            "         -1.2388,  0.3222],\n",
            "        [-0.8668, -0.4384,  0.5613, -0.5852,  0.0650,  0.2025, -0.7131,  1.3944,\n",
            "          0.1057,  1.4720,  0.3596,  1.0086,  0.1319, -0.4601,  0.0996, -0.5234,\n",
            "          0.5400, -1.9994,  0.3731,  0.3512, -0.2857,  1.3819,  0.0728, -1.1771,\n",
            "          0.1479, -0.7483, -1.2048, -1.4091, -1.1595,  0.6951, -1.2088,  0.0749,\n",
            "         -1.2616, -0.3874, -0.2546, -0.2802,  1.3486, -1.2020, -1.9099, -0.5677,\n",
            "          1.2351,  1.0016, -0.6318,  1.1403,  0.8459, -1.4747, -0.6925, -1.1336,\n",
            "          1.3169, -0.8290],\n",
            "        [ 1.4250, -0.7966, -1.3609,  0.0917,  0.1699, -0.7673, -0.0090,  0.6805,\n",
            "          0.2873, -0.5812, -1.4305, -0.5231, -0.2142, -0.0890,  1.7204,  0.9599,\n",
            "          0.4978, -2.2911, -0.0957, -1.3734,  2.8082,  0.7507,  1.4813, -0.3913,\n",
            "         -0.3131, -0.0203, -0.7155,  1.0847,  0.0779,  1.0867,  1.0420,  0.1514,\n",
            "         -1.0449, -0.4607,  1.7630,  0.6522,  1.2171, -0.2363,  0.0608, -0.1744,\n",
            "         -0.5854,  0.8131, -0.3207,  0.3327,  1.3757, -0.4524, -0.5721, -1.1262,\n",
            "          0.8515,  1.1427],\n",
            "        [ 1.6435, -1.5455, -1.1636, -0.4196,  0.1454,  0.9067, -0.9531,  0.8770,\n",
            "          1.2267,  0.5999, -1.2875, -1.8570,  0.4679,  0.2802, -1.0060,  1.6973,\n",
            "         -0.3670, -1.4089,  0.2081,  0.3587,  0.1716,  0.6809,  0.5907,  0.6309,\n",
            "         -1.8545, -1.5741,  1.6639,  1.0577, -0.9152,  0.2186, -0.2167, -0.3679,\n",
            "          0.2011, -1.4614,  0.5346, -0.4029,  0.1508, -0.8965, -2.2231, -0.8890,\n",
            "          0.6331,  0.4330,  0.3639, -1.2056, -1.2713, -1.2090, -0.3682, -1.3922,\n",
            "          1.3602,  0.3970],\n",
            "        [-1.1703, -0.6392, -0.6788,  0.4935,  0.5955, -1.4202,  1.2014,  0.8159,\n",
            "          2.6569, -0.3731,  0.1253,  0.1172, -0.7877, -0.8856, -0.8347, -1.6209,\n",
            "         -0.0541,  0.4288,  0.7712, -0.9497, -1.7651,  0.1611,  0.5780,  0.2457,\n",
            "          0.5165, -1.0162, -0.0558,  0.5977,  0.7205, -1.3172, -1.7200, -0.9824,\n",
            "          0.4813,  0.3759, -1.1584,  1.2182,  0.6610, -1.0956,  1.8274, -0.3229,\n",
            "         -0.0952, -2.3827, -1.0904, -0.5309,  1.0406,  2.2770,  0.3310, -0.1301,\n",
            "         -1.1771,  1.1075],\n",
            "        [ 1.4412,  0.8057, -0.4910,  0.0695,  0.5390, -0.4381,  2.0559,  0.8717,\n",
            "          1.2747, -0.8570, -1.1846,  0.2547, -1.1219,  0.4294,  0.8655, -0.6636,\n",
            "         -0.1603, -0.9577,  1.8455, -0.0880, -0.1176,  1.4293, -1.2249,  0.5246,\n",
            "          1.1397, -0.6352, -0.4408,  1.4582,  0.0493,  1.4264,  1.1370, -0.9968,\n",
            "         -0.9809,  0.5528, -0.6590, -0.7737, -0.4931,  0.9309, -0.1715,  0.4593,\n",
            "          0.7562, -0.7132,  0.7413, -0.2494,  0.6437, -0.2087, -0.1612,  0.8058,\n",
            "         -0.2579,  0.6449],\n",
            "        [ 1.3088,  1.0038, -0.7025, -0.4895,  2.2443, -0.5579,  1.0837, -0.0479,\n",
            "         -1.0763,  0.0034,  0.9128, -0.6735, -0.2912,  0.9961,  0.2874, -0.8188,\n",
            "          0.2087,  2.2313,  0.8242,  1.0563, -0.0789, -0.9028,  0.2103, -1.9817,\n",
            "          1.2797,  0.4267, -1.0700,  1.5687,  2.1278, -0.5458,  1.8857,  0.2856,\n",
            "         -0.3953, -0.8918, -0.2135,  0.0359,  0.0394, -0.5803, -0.3609,  1.2043,\n",
            "         -0.4164,  0.5758, -2.1096,  1.0636,  0.1053, -0.1219,  0.4086, -1.0845,\n",
            "         -0.7320,  0.3663],\n",
            "        [ 0.3512,  1.4783,  1.2183,  1.8444,  0.3375, -1.2745,  1.0095,  1.0794,\n",
            "         -0.2481,  0.7000,  0.6696,  1.1576, -1.0951,  2.1208,  0.7194, -0.1402,\n",
            "          0.9188,  0.6327,  0.7467, -0.3581,  0.4409, -1.1285,  0.6091, -0.8172,\n",
            "          0.9734,  0.0638,  0.9751,  1.6680,  0.8366,  0.6696, -0.1859, -0.4323,\n",
            "          0.9329,  0.8481,  0.7597, -1.8823,  1.0147,  0.6908,  0.3829,  0.8090,\n",
            "          0.3277, -1.6716, -2.7289,  0.0581, -0.3082,  1.2958,  2.1448,  0.8958,\n",
            "         -1.1475, -0.0933],\n",
            "        [ 0.5948, -1.1587, -2.9344,  0.5049, -1.1358,  1.8283,  1.0256, -0.0394,\n",
            "          0.4751, -0.2781,  0.0601, -0.3192,  0.1615, -0.3267,  0.2448,  1.2694,\n",
            "         -0.2937,  1.0967, -0.9499, -0.1533,  1.0365,  0.3014,  0.5981,  0.7578,\n",
            "          0.7062, -0.7812,  1.6604, -1.1127,  1.1442, -0.6625, -0.0687,  0.2210,\n",
            "          0.1890,  1.9474,  0.8613, -1.0991,  1.2178, -1.4973,  0.0035,  0.6927,\n",
            "         -0.1973,  0.3492,  0.1804, -0.6620, -0.8443, -0.8268, -0.8110, -1.7725,\n",
            "         -1.8442, -0.0199]])\n",
            "tensor([ 1.4250, -0.7966, -1.3609,  0.0917,  0.1699, -0.7673, -0.0090,  0.6805,\n",
            "         0.2873, -0.5812, -1.4305, -0.5231, -0.2142, -0.0890,  1.7204,  0.9599,\n",
            "         0.4978, -2.2911, -0.0957, -1.3734,  2.8082,  0.7507,  1.4813, -0.3913,\n",
            "        -0.3131, -0.0203, -0.7155,  1.0847,  0.0779,  1.0867,  1.0420,  0.1514,\n",
            "        -1.0449, -0.4607,  1.7630,  0.6522,  1.2171, -0.2363,  0.0608, -0.1744,\n",
            "        -0.5854,  0.8131, -0.3207,  0.3327,  1.3757, -0.4524, -0.5721, -1.1262,\n",
            "         0.8515,  1.1427])\n",
            "Sum\n",
            "tensor([ 3.7148, -2.3317, -8.4673,  1.3965,  2.8886, -3.0052,  5.5236,  3.8121,\n",
            "         3.0576,  3.2446, -3.9734, -0.3218, -2.1200,  3.3347, -1.1085,  0.7441,\n",
            "         3.9501, -3.2509,  4.7032, -2.1320,  0.2556,  2.8574,  2.9922, -0.2812,\n",
            "         4.3808, -3.5058,  2.4437,  3.2345,  0.6644,  2.2934, -1.0142, -2.4227,\n",
            "        -1.6704,  1.0953,  1.8204, -2.6881,  3.6140, -4.1130, -2.7999,  1.2580,\n",
            "         0.1238, -4.0891, -4.6261, -1.4096, -0.0595,  0.1067,  2.3059, -4.8223,\n",
            "        -1.4473,  3.8437])\n",
            "Max\n",
            "tensor(2.8082)\n",
            "Min\n",
            "tensor(-2.9344)\n",
            "x_mean value\n",
            "tensor([[ 1.0170, -0.4079, -0.0831,  0.7348,  1.2474],\n",
            "        [-0.9020,  0.9491, -0.5279,  0.0155, -0.3324],\n",
            "        [ 0.5718, -0.2169, -0.3735,  0.7183, -0.9384],\n",
            "        [ 1.4046, -0.0272,  0.1702, -0.7667,  0.5975],\n",
            "        [-1.2922,  0.2033,  1.4364, -1.4252,  0.1074],\n",
            "        [ 0.6342, -0.6147, -1.2083,  0.2791,  0.5005],\n",
            "        [-0.2909, -0.2979, -0.5955,  0.5165, -0.1222],\n",
            "        [ 0.0982, -1.1251, -1.5430, -1.2905, -1.0654],\n",
            "        [-0.3147,  0.1634, -1.0148, -0.1135, -1.5575],\n",
            "        [-0.5015,  1.1539, -0.6104, -0.1824,  0.7834]])\n",
            "tensor([ 1.4046, -0.0272,  0.1702, -0.7667,  0.5975])\n"
          ]
        }
      ]
    },
    {
      "cell_type": "markdown",
      "metadata": {
        "id": "T33dD1e8tii2"
      },
      "source": [
        "Install PyTorch and Skorch."
      ]
    },
    {
      "cell_type": "code",
      "metadata": {
        "id": "pJB3VQYDCUmh",
        "colab": {
          "base_uri": "https://localhost:8080/"
        },
        "outputId": "aa1bac2e-ac17-494e-b946-e677bccdf383"
      },
      "source": [
        "!pip install -q torch skorch torchvision torchtext"
      ],
      "execution_count": null,
      "outputs": [
        {
          "output_type": "stream",
          "name": "stdout",
          "text": [
            "\u001b[?25l\r\u001b[K     |█▊                              | 10 kB 14.7 MB/s eta 0:00:01\r\u001b[K     |███▌                            | 20 kB 18.1 MB/s eta 0:00:01\r\u001b[K     |█████▎                          | 30 kB 20.9 MB/s eta 0:00:01\r\u001b[K     |███████                         | 40 kB 23.9 MB/s eta 0:00:01\r\u001b[K     |████████▉                       | 51 kB 25.2 MB/s eta 0:00:01\r\u001b[K     |██████████▋                     | 61 kB 27.0 MB/s eta 0:00:01\r\u001b[K     |████████████▍                   | 71 kB 25.8 MB/s eta 0:00:01\r\u001b[K     |██████████████                  | 81 kB 22.4 MB/s eta 0:00:01\r\u001b[K     |███████████████▉                | 92 kB 23.5 MB/s eta 0:00:01\r\u001b[K     |█████████████████▋              | 102 kB 23.7 MB/s eta 0:00:01\r\u001b[K     |███████████████████▍            | 112 kB 23.7 MB/s eta 0:00:01\r\u001b[K     |█████████████████████▏          | 122 kB 23.7 MB/s eta 0:00:01\r\u001b[K     |███████████████████████         | 133 kB 23.7 MB/s eta 0:00:01\r\u001b[K     |████████████████████████▊       | 143 kB 23.7 MB/s eta 0:00:01\r\u001b[K     |██████████████████████████▌     | 153 kB 23.7 MB/s eta 0:00:01\r\u001b[K     |████████████████████████████▏   | 163 kB 23.7 MB/s eta 0:00:01\r\u001b[K     |██████████████████████████████  | 174 kB 23.7 MB/s eta 0:00:01\r\u001b[K     |███████████████████████████████▊| 184 kB 23.7 MB/s eta 0:00:01\r\u001b[K     |████████████████████████████████| 185 kB 23.7 MB/s \n",
            "\u001b[?25h"
          ]
        }
      ]
    },
    {
      "cell_type": "markdown",
      "metadata": {
        "id": "I49qjiqHB9oa"
      },
      "source": [
        "## Convolutional Neural Networks\n",
        "\n",
        "\n"
      ]
    },
    {
      "cell_type": "markdown",
      "metadata": {
        "id": "JePbG5pSt1xv"
      },
      "source": [
        "Implement a convolutional neural network for image classification on CIFAR-10 dataset.\n",
        "\n",
        "CIFAR-10 is an image dataset of 10 categories. Each image has a size of 32x32 pixels. The following code will download the dataset, and split it into `train` and `test`. For this question, we use the default validation split generated by Skorch."
      ]
    },
    {
      "cell_type": "code",
      "source": [
        "# importing required libraries\n",
        "import torchvision\n",
        "import matplotlib.pyplot as plt\n",
        "import torch\n",
        "import torch.nn as nn\n",
        "import torch.optim as optim\n",
        "import skorch\n",
        "from skorch.helper import predefined_split\n",
        "from torch.nn import Linear, ReLU, CrossEntropyLoss, Sequential, Conv2d, MaxPool2d, Module, Softmax, BatchNorm2d, Dropout, Sigmoid\n",
        "import numpy as np\n",
        "\n"
      ],
      "metadata": {
        "id": "Bl2Qozw32RGf"
      },
      "execution_count": null,
      "outputs": []
    },
    {
      "cell_type": "code",
      "metadata": {
        "id": "sQxOUQ29BuMB",
        "colab": {
          "base_uri": "https://localhost:8080/",
          "height": 101,
          "referenced_widgets": [
            "ed079e9256fa4e39a98c3154eb4ad898",
            "01b9344013184ef38b1e8048e96c389a",
            "d7baccaf95114081b1f134e85e161c70",
            "172494795a5f434186134dfaf0b40295",
            "2bdac093b2cd4e4bbb7e5887c9fd6e74",
            "25c14042a1ce479c9c60e95cf037469d",
            "6b838eeb513e4d4a8f07494e6c1d9044",
            "b19a7aec54d44d78b5ef1da5b10da185",
            "0b6d97ca08ca45ffa9ecc44fe27a6e1b",
            "7d786f4fdeee48e6a351b20c357bba30",
            "5f73ecae210a41198d95baaeff23b02e"
          ]
        },
        "outputId": "7dc1b311-c5ba-4173-c4c4-e1188174e473"
      },
      "source": [
        "train = torchvision.datasets.CIFAR10(\"./data\", train=True, download=True)\n",
        "test = torchvision.datasets.CIFAR10(\"./data\", train=False, download=True)"
      ],
      "execution_count": null,
      "outputs": [
        {
          "output_type": "stream",
          "name": "stdout",
          "text": [
            "Downloading https://www.cs.toronto.edu/~kriz/cifar-10-python.tar.gz to ./data/cifar-10-python.tar.gz\n"
          ]
        },
        {
          "output_type": "display_data",
          "data": {
            "text/plain": [
              "  0%|          | 0/170498071 [00:00<?, ?it/s]"
            ],
            "application/vnd.jupyter.widget-view+json": {
              "version_major": 2,
              "version_minor": 0,
              "model_id": "ed079e9256fa4e39a98c3154eb4ad898"
            }
          },
          "metadata": {}
        },
        {
          "output_type": "stream",
          "name": "stdout",
          "text": [
            "Extracting ./data/cifar-10-python.tar.gz to ./data\n",
            "Files already downloaded and verified\n"
          ]
        }
      ]
    },
    {
      "cell_type": "markdown",
      "metadata": {
        "id": "ieBpiwMwi6wD"
      },
      "source": [
        "The following code visualizes some samples in the dataset. You may use it to debug your model if necessary."
      ]
    },
    {
      "cell_type": "code",
      "metadata": {
        "id": "cU5HrxybupyJ",
        "colab": {
          "base_uri": "https://localhost:8080/",
          "height": 108
        },
        "outputId": "f341f63e-ddce-47d4-d87d-50c3a6d5b9df"
      },
      "source": [
        "def plot(data, labels=None, num_sample=5):\n",
        "  n = min(len(data), num_sample)\n",
        "  for i in range(n):\n",
        "    plt.subplot(1, n, i+1)\n",
        "    plt.imshow(data[i], cmap=\"gray\")\n",
        "    plt.xticks([])\n",
        "    plt.yticks([])\n",
        "    if labels is not None:\n",
        "      plt.title(labels[i])\n",
        "\n",
        "train.labels = [train.classes[target] for target in train.targets]\n",
        "plot(train.data, train.labels)"
      ],
      "execution_count": null,
      "outputs": [
        {
          "output_type": "display_data",
          "data": {
            "text/plain": [
              "<Figure size 432x288 with 5 Axes>"
            ],
            "image/png": "[encoded data removed]"
          },
          "metadata": {}
        }
      ]
    },
    {
      "cell_type": "markdown",
      "metadata": {
        "id": "JwzKmdcuCv1D"
      },
      "source": [
        "### 1) Basic CNN implementation\n"
      ]
    },
    {
      "cell_type": "markdown",
      "metadata": {
        "id": "TbEYo5WgjTtm"
      },
      "source": [
        "Consider a basic CNN model\n",
        "\n",
        "- It has 3 convolutional layers, followed by a linear layer.\n",
        "- Each convolutional layer has a kernel size of 3, a padding of 1.\n",
        "- ReLU activation is applied on every hidden layer.\n",
        "\n",
        "Please implement this model in the following section. You will need to tune the hyperparameters and fill the results in the table."
      ]
    },
    {
      "cell_type": "markdown",
      "metadata": {
        "id": "OZKyE2GUfL-Z"
      },
      "source": [
        "#### a) Implement convolutional layers"
      ]
    },
    {
      "cell_type": "markdown",
      "metadata": {
        "id": "4P_aYytExtq9"
      },
      "source": [
        "Implement the initialization function and the forward function of the CNN."
      ]
    },
    {
      "cell_type": "code",
      "metadata": {
        "id": "sDmCKUD1LBFk"
      },
      "source": [
        "class CNN(nn.Module):\n",
        "  def __init__(self):\n",
        "    super(CNN, self).__init__()\n",
        "    # implement parameter definitions here\n",
        "    self.cnn_layers = Sequential(\n",
        "            Conv2d(3, 4, kernel_size=3, stride=1, padding=1),\n",
        "            ReLU(inplace=True),\n",
        "            MaxPool2d(kernel_size=2, stride=2), #Adding max pooling also\n",
        "            \n",
        "            # Defining another 2D convolution layer\n",
        "            Conv2d(4, 4, kernel_size=3, stride=1, padding=1),\n",
        "            ReLU(inplace=True),\n",
        "            MaxPool2d(kernel_size=2, stride=2),\n",
        "            \n",
        "            # Defining third 2D convolution layer\n",
        "            Conv2d(4, 4, kernel_size=3, stride=1, padding=1),\n",
        "            ReLU(inplace=True),\n",
        "            MaxPool2d(kernel_size=2, stride=2)\n",
        "        \n",
        "        )\n",
        "    self.linear_layers = Sequential(\n",
        "            Linear(64, 10),\n",
        "            Sigmoid()\n",
        "        )\n",
        "  \n",
        "  def forward(self, images):\n",
        "    # implement the forward function here\n",
        "    x = self.cnn_layers(images)\n",
        "    x = x.view(x.size(0), -1)\n",
        "    x = self.linear_layers(x)\n",
        "    return x"
      ],
      "execution_count": null,
      "outputs": []
    },
    {
      "cell_type": "markdown",
      "metadata": {
        "id": "E_YaASPpgRiL"
      },
      "source": [
        "#### b) Tune hyperparameters\n"
      ]
    },
    {
      "cell_type": "markdown",
      "metadata": {
        "id": "ygMcDdpy6XWP"
      },
      "source": [
        "Train the CNN model on CIFAR-10 dataset. Tune the number of channels, optimizer, learning rate and the number of epochs for best validation accuracy."
      ]
    },
    {
      "cell_type": "code",
      "metadata": {
        "id": "0PHxOHYnr8TU",
        "colab": {
          "base_uri": "https://localhost:8080/"
        },
        "outputId": "fac4ff78-6feb-4028-8fa4-387f0fbc5c28"
      },
      "source": [
        "# implement hyperparameters here\n",
        "model = skorch.NeuralNetClassifier(CNN, criterion=torch.nn.CrossEntropyLoss,\n",
        "                                   optimizer = torch.optim.SGD, lr = 0.02, max_epochs = 80)\n",
        "# implement input normalization & type cast here\n",
        "device = torch.device('cuda' if torch.cuda.is_available() else 'cpu')\n",
        "train_y = np.array(train.targets)\n",
        "#train_y = torch.from_numpy(train_y)\n",
        "\n",
        "train_y_onehot = np.zeros((train_y.size, train_y.max() + 1))\n",
        "train_y_onehot[np.arange(train_y.size), train_y] = 1\n",
        "\n",
        "train_x = np.array([[img[:,:,0],img[:,:,1],img[:,:,2]] for img in train.data]).astype(float)\n",
        "\n",
        "model.fit(torch.from_numpy(np.array(train_x, dtype = np.float32)), torch.from_numpy(train_y))"
      ],
      "execution_count": null,
      "outputs": [
        {
          "output_type": "stream",
          "name": "stdout",
          "text": [
            "  epoch    train_loss    valid_acc    valid_loss     dur\n",
            "-------  ------------  -----------  ------------  ------\n",
            "      1        \u001b[36m2.2564\u001b[0m       \u001b[32m0.1333\u001b[0m        \u001b[35m2.2229\u001b[0m  7.6228\n",
            "      2        \u001b[36m2.2117\u001b[0m       \u001b[32m0.1569\u001b[0m        \u001b[35m2.2027\u001b[0m  7.5643\n",
            "      3        \u001b[36m2.1730\u001b[0m       \u001b[32m0.2140\u001b[0m        \u001b[35m2.1594\u001b[0m  7.6917\n",
            "      4        \u001b[36m2.1352\u001b[0m       \u001b[32m0.2475\u001b[0m        \u001b[35m2.1164\u001b[0m  7.4184\n",
            "      5        \u001b[36m2.0722\u001b[0m       \u001b[32m0.3020\u001b[0m        \u001b[35m2.0506\u001b[0m  7.7827\n",
            "      6        \u001b[36m2.0272\u001b[0m       0.2980        \u001b[35m2.0506\u001b[0m  7.2984\n",
            "      7        \u001b[36m2.0090\u001b[0m       \u001b[32m0.3370\u001b[0m        \u001b[35m2.0130\u001b[0m  7.3981\n",
            "      8        \u001b[36m1.9965\u001b[0m       \u001b[32m0.3530\u001b[0m        \u001b[35m1.9931\u001b[0m  7.6817\n",
            "      9        \u001b[36m1.9888\u001b[0m       \u001b[32m0.3574\u001b[0m        1.9945  7.8385\n",
            "     10        \u001b[36m1.9812\u001b[0m       0.3549        \u001b[35m1.9868\u001b[0m  7.6940\n",
            "     11        \u001b[36m1.9752\u001b[0m       0.3469        1.9929  7.5437\n",
            "     12        \u001b[36m1.9696\u001b[0m       \u001b[32m0.3586\u001b[0m        \u001b[35m1.9840\u001b[0m  7.5971\n",
            "     13        \u001b[36m1.9642\u001b[0m       \u001b[32m0.3756\u001b[0m        \u001b[35m1.9667\u001b[0m  7.7023\n",
            "     14        \u001b[36m1.9619\u001b[0m       \u001b[32m0.3817\u001b[0m        \u001b[35m1.9650\u001b[0m  7.5391\n",
            "     15        \u001b[36m1.9588\u001b[0m       0.3800        \u001b[35m1.9606\u001b[0m  7.8981\n",
            "     16        \u001b[36m1.9554\u001b[0m       0.3796        \u001b[35m1.9597\u001b[0m  7.5926\n",
            "     17        \u001b[36m1.9533\u001b[0m       0.3425        2.0062  7.5780\n",
            "     18        \u001b[36m1.9512\u001b[0m       0.3598        1.9766  8.3165\n",
            "     19        \u001b[36m1.9479\u001b[0m       0.3799        1.9641  8.3424\n",
            "     20        \u001b[36m1.9461\u001b[0m       0.3670        1.9700  7.7122\n",
            "     21        \u001b[36m1.9440\u001b[0m       0.3788        \u001b[35m1.9521\u001b[0m  7.8264\n",
            "     22        \u001b[36m1.9423\u001b[0m       \u001b[32m0.3934\u001b[0m        \u001b[35m1.9426\u001b[0m  7.9183\n",
            "     23        \u001b[36m1.9404\u001b[0m       0.3579        1.9905  7.6476\n",
            "     24        \u001b[36m1.9393\u001b[0m       0.3814        1.9571  7.7644\n",
            "     25        \u001b[36m1.9364\u001b[0m       0.3780        1.9508  7.5503\n",
            "     26        1.9387       0.3446        1.9856  7.7931\n",
            "     27        \u001b[36m1.9363\u001b[0m       0.3906        1.9464  7.7912\n",
            "     28        1.9372       0.3764        1.9508  7.7820\n",
            "     29        \u001b[36m1.9351\u001b[0m       0.3921        \u001b[35m1.9362\u001b[0m  7.6377\n",
            "     30        1.9356       0.3687        1.9623  7.5101\n",
            "     31        \u001b[36m1.9345\u001b[0m       0.3806        1.9463  7.7982\n",
            "     32        \u001b[36m1.9342\u001b[0m       0.3808        1.9479  7.8631\n",
            "     33        \u001b[36m1.9326\u001b[0m       0.3739        1.9534  7.4842\n",
            "     34        1.9331       0.3849        1.9476  7.6901\n",
            "     35        \u001b[36m1.9303\u001b[0m       0.3918        \u001b[35m1.9329\u001b[0m  7.7818\n",
            "     36        1.9319       0.3743        1.9486  7.7786\n",
            "     37        \u001b[36m1.9302\u001b[0m       0.3704        1.9485  7.6469\n",
            "     38        1.9323       0.3787        1.9399  7.8281\n",
            "     39        \u001b[36m1.9295\u001b[0m       0.3853        1.9358  7.7532\n",
            "     40        \u001b[36m1.9280\u001b[0m       0.3635        1.9554  7.5893\n",
            "     41        \u001b[36m1.9273\u001b[0m       0.3751        1.9494  7.6380\n",
            "     42        1.9289       \u001b[32m0.3937\u001b[0m        \u001b[35m1.9327\u001b[0m  7.7828\n",
            "     43        1.9289       0.3324        1.9669  7.7377\n",
            "     44        1.9292       0.3607        1.9508  7.5954\n",
            "     45        1.9298       0.3328        1.9712  7.7538\n",
            "     46        1.9299       0.3709        1.9409  7.8036\n",
            "     47        1.9310       0.3483        1.9646  7.7836\n",
            "     48        1.9304       0.3610        1.9529  7.7242\n",
            "     49        1.9280       0.3776        \u001b[35m1.9306\u001b[0m  7.7271\n",
            "     50        1.9300       0.3577        1.9457  7.7726\n",
            "     51        1.9292       0.3389        1.9560  7.6273\n",
            "     52        1.9289       0.3482        1.9424  7.4246\n",
            "     53        1.9284       0.3339        1.9471  7.8989\n",
            "     54        1.9290       0.3600        1.9351  7.5079\n",
            "     55        1.9296       0.3497        1.9406  7.5861\n",
            "     56        1.9305       0.3261        1.9722  7.7960\n",
            "     57        1.9295       0.3434        1.9610  7.7885\n",
            "     58        1.9295       0.3475        1.9388  7.7172\n",
            "     59        1.9298       0.3536        1.9344  7.8903\n",
            "     60        1.9293       0.3435        1.9341  7.5834\n",
            "     61        1.9309       0.3587        1.9428  7.5892\n",
            "     62        1.9326       0.3177        1.9573  7.7793\n",
            "     63        1.9337       0.3433        1.9511  7.7945\n",
            "     64        1.9314       0.3488        1.9526  7.6930\n",
            "     65        1.9323       0.3321        1.9491  7.8024\n",
            "     66        1.9343       0.3288        1.9416  7.7802\n",
            "     67        1.9352       0.3297        1.9491  7.6211\n",
            "     68        1.9354       0.3307        1.9563  8.0197\n",
            "     69        1.9353       0.3288        1.9402  8.0433\n",
            "     70        1.9314       0.3375        1.9330  7.6861\n",
            "     71        1.9340       0.3379        1.9331  7.5469\n",
            "     72        1.9346       0.3431        \u001b[35m1.9300\u001b[0m  7.7885\n",
            "     73        1.9370       0.3332        1.9435  7.9840\n",
            "     74        1.9394       0.3223        1.9360  8.1855\n",
            "     75        1.9350       0.3141        1.9624  8.1443\n",
            "     76        1.9381       0.3215        1.9547  8.1921\n",
            "     77        1.9337       0.3398        1.9687  7.7983\n",
            "     78        1.9403       0.3238        1.9579  7.9877\n",
            "     79        1.9438       0.3106        1.9434  8.0350\n",
            "     80        1.9374       0.3057        1.9392  8.3022\n"
          ]
        },
        {
          "output_type": "execute_result",
          "data": {
            "text/plain": [
              "<class 'skorch.classifier.NeuralNetClassifier'>[initialized](\n",
              "  module_=CNN(\n",
              "    (cnn_layers): Sequential(\n",
              "      (0): Conv2d(3, 4, kernel_size=(3, 3), stride=(1, 1), padding=(1, 1))\n",
              "      (1): ReLU(inplace=True)\n",
              "      (2): MaxPool2d(kernel_size=2, stride=2, padding=0, dilation=1, ceil_mode=False)\n",
              "      (3): Conv2d(4, 4, kernel_size=(3, 3), stride=(1, 1), padding=(1, 1))\n",
              "      (4): ReLU(inplace=True)\n",
              "      (5): MaxPool2d(kernel_size=2, stride=2, padding=0, dilation=1, ceil_mode=False)\n",
              "      (6): Conv2d(4, 4, kernel_size=(3, 3), stride=(1, 1), padding=(1, 1))\n",
              "      (7): ReLU(inplace=True)\n",
              "      (8): MaxPool2d(kernel_size=2, stride=2, padding=0, dilation=1, ceil_mode=False)\n",
              "    )\n",
              "    (linear_layers): Sequential(\n",
              "      (0): Linear(in_features=64, out_features=10, bias=True)\n",
              "      (1): Sigmoid()\n",
              "    )\n",
              "  ),\n",
              ")"
            ]
          },
          "metadata": {},
          "execution_count": 7
        }
      ]
    },
    {
      "cell_type": "markdown",
      "source": [
        "Validation loss obtained using SGD optimizer for 50 epochs is 1.9457\n",
        "Validation loss obtained using SGD optimizer for 80 epochs is 1.9392 "
      ],
      "metadata": {
        "id": "QAcwuxOAm9UU"
      }
    },
    {
      "cell_type": "code",
      "source": [
        "# implement hyperparameters here\n",
        "model = skorch.NeuralNetClassifier(CNN, criterion=torch.nn.CrossEntropyLoss,\n",
        "                                   optimizer = torch.optim.Adam, lr = 0.2, max_epochs = 50)\n",
        "# implement input normalization & type cast here\n",
        "device = torch.device('cuda' if torch.cuda.is_available() else 'cpu')\n",
        "train_y = np.array(train.targets)\n",
        "#train_y = torch.from_numpy(train_y)\n",
        "\n",
        "train_y_onehot = np.zeros((train_y.size, train_y.max() + 1))\n",
        "train_y_onehot[np.arange(train_y.size), train_y] = 1\n",
        "\n",
        "train_x = np.array([[img[:,:,0],img[:,:,1],img[:,:,2]] for img in train.data]).astype(float)\n",
        "\n",
        "model.fit(torch.from_numpy(np.array(train_x, dtype = np.float32)), torch.from_numpy(train_y))"
      ],
      "metadata": {
        "colab": {
          "base_uri": "https://localhost:8080/"
        },
        "id": "MR6vt3XYfxIN",
        "outputId": "65530deb-b1a9-4378-f157-67b96fcd1f16"
      },
      "execution_count": null,
      "outputs": [
        {
          "output_type": "stream",
          "name": "stdout",
          "text": [
            "  epoch    train_loss    valid_acc    valid_loss     dur\n",
            "-------  ------------  -----------  ------------  ------\n",
            "      1        \u001b[36m2.3616\u001b[0m       \u001b[32m0.1000\u001b[0m        \u001b[35m2.3612\u001b[0m  8.6093\n",
            "      2        \u001b[36m2.3612\u001b[0m       0.1000        2.3612  9.9424\n",
            "      3        2.3612       0.1000        2.3612  8.3205\n",
            "      4        2.3612       0.1000        2.3612  7.8114\n",
            "      5        2.3612       0.1000        2.3612  7.7383\n",
            "      6        2.3612       0.1000        2.3612  7.7371\n",
            "      7        2.3612       0.1000        2.3612  7.6811\n",
            "      8        2.3612       0.1000        2.3612  7.6484\n",
            "      9        2.3612       0.1000        2.3612  7.7050\n",
            "     10        2.3612       0.1000        2.3612  7.9149\n",
            "     11        2.3612       0.1000        2.3612  7.7035\n",
            "     12        2.3612       0.1000        2.3612  8.2284\n",
            "     13        2.3612       0.1000        2.3612  7.7088\n",
            "     14        2.3612       0.1000        2.3612  7.6084\n",
            "     15        2.3612       0.1000        2.3612  7.7143\n",
            "     16        2.3612       0.1000        2.3612  7.8593\n",
            "     17        2.3612       0.1000        2.3612  7.6511\n",
            "     18        2.3612       0.1000        2.3612  7.8716\n",
            "     19        2.3612       0.1000        2.3612  10.9168\n",
            "     20        2.3612       0.1000        2.3612  8.3139\n",
            "     21        2.3612       0.1000        2.3612  8.2782\n",
            "     22        2.3612       0.1000        2.3612  9.4205\n",
            "     23        2.3612       0.1000        2.3612  8.5033\n",
            "     24        2.3612       0.1000        2.3612  7.8255\n",
            "     25        2.3612       0.1000        2.3612  8.9048\n",
            "     26        2.3612       0.1000        2.3612  9.9808\n",
            "     27        2.3612       0.1000        2.3612  9.4702\n",
            "     28        2.3612       0.1000        2.3612  9.6823\n",
            "     29        2.3612       0.1000        2.3612  10.1683\n",
            "     30        2.3612       0.1000        2.3612  9.4410\n",
            "     31        2.3612       0.1000        2.3612  10.5238\n",
            "     32        2.3612       0.1000        2.3612  12.1579\n",
            "     33        2.3612       0.1000        2.3612  8.7332\n",
            "     34        2.3612       0.1000        2.3612  8.1706\n",
            "     35        2.3612       0.1000        2.3612  8.3132\n",
            "     36        2.3612       0.1000        2.3612  8.1552\n",
            "     37        2.3612       0.1000        2.3612  8.2883\n",
            "     38        2.3612       0.1000        2.3612  8.0469\n",
            "     39        2.3612       0.1000        2.3612  8.2140\n",
            "     40        2.3612       0.1000        2.3612  8.2633\n",
            "     41        2.3612       0.1000        2.3612  8.2459\n",
            "     42        2.3612       0.1000        2.3612  8.1746\n",
            "     43        2.3612       0.1000        2.3612  8.2453\n",
            "     44        2.3612       0.1000        2.3612  8.1371\n",
            "     45        2.3612       0.1000        2.3612  8.7439\n",
            "     46        2.3612       0.1000        2.3612  8.3979\n",
            "     47        2.3612       0.1000        2.3612  8.2403\n",
            "     48        2.3612       0.1000        2.3612  8.2722\n",
            "     49        2.3612       0.1000        2.3612  8.1669\n",
            "     50        2.3612       0.1000        2.3612  8.1890\n"
          ]
        },
        {
          "output_type": "execute_result",
          "data": {
            "text/plain": [
              "<class 'skorch.classifier.NeuralNetClassifier'>[initialized](\n",
              "  module_=CNN(\n",
              "    (cnn_layers): Sequential(\n",
              "      (0): Conv2d(3, 4, kernel_size=(3, 3), stride=(1, 1), padding=(1, 1))\n",
              "      (1): ReLU(inplace=True)\n",
              "      (2): MaxPool2d(kernel_size=2, stride=2, padding=0, dilation=1, ceil_mode=False)\n",
              "      (3): Conv2d(4, 4, kernel_size=(3, 3), stride=(1, 1), padding=(1, 1))\n",
              "      (4): ReLU(inplace=True)\n",
              "      (5): MaxPool2d(kernel_size=2, stride=2, padding=0, dilation=1, ceil_mode=False)\n",
              "      (6): Conv2d(4, 4, kernel_size=(3, 3), stride=(1, 1), padding=(1, 1))\n",
              "      (7): ReLU(inplace=True)\n",
              "      (8): MaxPool2d(kernel_size=2, stride=2, padding=0, dilation=1, ceil_mode=False)\n",
              "    )\n",
              "    (linear_layers): Sequential(\n",
              "      (0): Linear(in_features=64, out_features=10, bias=True)\n",
              "      (1): Sigmoid()\n",
              "    )\n",
              "  ),\n",
              ")"
            ]
          },
          "metadata": {},
          "execution_count": 11
        }
      ]
    },
    {
      "cell_type": "markdown",
      "source": [
        "Adam optimizer could achieve 2.3612"
      ],
      "metadata": {
        "id": "kVqgH4x8uR5z"
      }
    },
    {
      "cell_type": "markdown",
      "metadata": {
        "id": "w-EHKzozkRbD"
      },
      "source": [
        "Write down **validation accuracy** of your model under different hyperparameter settings. Note the validation set is automatically split by Skorch during `model.fit()`.\n",
        "\n",
        "**Hint:** You may need more epochs for SGD than Adam.\n",
        "\n",
        "| #channel for each layer \\ optimizer | SGD   | Adam  |\n",
        "|-------------------------------------|-------|-------|\n",
        "| (128, 128, 128)                     |       |       |\n",
        "| (256, 256, 256)                     |       |       |\n",
        "| (512, 512, 512)                     |       |       |\n"
      ]
    },
    {
      "cell_type": "markdown",
      "source": [
        "#### c) Use larger CNN model\n",
        "> Indented block\n",
        "\n",
        "\n",
        "\n",
        "Add more Convolution/BatchNorm/Pooling/DropOut/Linear layers to improve the accuracy."
      ],
      "metadata": {
        "id": "fdQwD7doVo6j"
      }
    },
    {
      "cell_type": "code",
      "source": [
        "class CNNLarge(nn.Module):\n",
        "  def __init__(self):\n",
        "    super(CNNLarge, self).__init__()\n",
        "    # implement parameter definitions here\n",
        "    self.cnn_layers = Sequential(\n",
        "            Conv2d(3, 4, kernel_size=3, stride=1, padding=1),\n",
        "            ReLU(inplace=True),\n",
        "            MaxPool2d(kernel_size=2, stride=2), #Adding max pooling also\n",
        "            \n",
        "            # Defining another 2D convolution layer\n",
        "            Conv2d(4, 4, kernel_size=3, stride=1, padding=1),\n",
        "            ReLU(inplace=True),\n",
        "            MaxPool2d(kernel_size=2, stride=2),\n",
        "            \n",
        "            # Defining third 2D convolution layer\n",
        "            Conv2d(4, 8, kernel_size=3, stride=1, padding=1),\n",
        "            ReLU(inplace=True),\n",
        "            MaxPool2d(kernel_size=2, stride=2),\n",
        "\n",
        "            # Defining fourth 2D convolution layer\n",
        "            Conv2d(8, 16, kernel_size=3, stride=1, padding=1),\n",
        "            ReLU(inplace=True),\n",
        "            MaxPool2d(kernel_size=2, stride=2),\n",
        "        \n",
        "            # Defining fifth 2D convolution layer\n",
        "            Conv2d(16, 32, kernel_size=3, stride=1, padding=1),\n",
        "            ReLU(inplace=True),\n",
        "            MaxPool2d(kernel_size=2, stride=2)\n",
        "        \n",
        "        )\n",
        "    self.linear_layers = Sequential(\n",
        "            Linear(32, 10)\n",
        "        )\n",
        "  \n",
        "  def forward(self, images):\n",
        "    # implement the forward function here\n",
        "    x = self.cnn_layers(images)\n",
        "    x = x.view(x.size(0), -1)\n",
        "    x = self.linear_layers(x)\n",
        "    return x\n",
        "\n",
        "# implement hyperparameters here\n",
        "model = skorch.NeuralNetClassifier(CNNLarge, criterion=torch.nn.CrossEntropyLoss,\n",
        "                                   optimizer = torch.optim.SGD, lr = 0.02, max_epochs = 50)\n",
        "# implement input normalization & type cast here\n",
        "device = torch.device('cuda' if torch.cuda.is_available() else 'cpu')\n",
        "train_y = np.array(train.targets)\n",
        "#train_y = torch.from_numpy(train_y)\n",
        "\n",
        "train_y_onehot = np.zeros((train_y.size, train_y.max() + 1))\n",
        "train_y_onehot[np.arange(train_y.size), train_y] = 1\n",
        "\n",
        "train_x = np.array([[img[:,:,0],img[:,:,1],img[:,:,2]] for img in train.data]).astype(float)\n",
        "\n",
        "model.fit(torch.from_numpy(np.array(train_x, dtype = np.float32)), torch.from_numpy(train_y))"
      ],
      "metadata": {
        "id": "eCuMwkjGH7bV",
        "colab": {
          "base_uri": "https://localhost:8080/"
        },
        "outputId": "5a355fe6-d311-4a44-8f59-b75ef3582271"
      },
      "execution_count": null,
      "outputs": [
        {
          "output_type": "stream",
          "name": "stdout",
          "text": [
            "  epoch    train_loss    valid_acc    valid_loss     dur\n",
            "-------  ------------  -----------  ------------  ------\n",
            "      1        \u001b[36m2.2608\u001b[0m       \u001b[32m0.2042\u001b[0m        \u001b[35m2.1160\u001b[0m  8.4619\n",
            "      2        \u001b[36m1.9980\u001b[0m       \u001b[32m0.2766\u001b[0m        \u001b[35m1.9392\u001b[0m  8.4601\n",
            "      3        \u001b[36m1.8505\u001b[0m       \u001b[32m0.3473\u001b[0m        \u001b[35m1.7859\u001b[0m  8.2478\n",
            "      4        \u001b[36m1.7526\u001b[0m       \u001b[32m0.3628\u001b[0m        \u001b[35m1.7747\u001b[0m  8.3604\n",
            "      5        \u001b[36m1.6938\u001b[0m       \u001b[32m0.3786\u001b[0m        \u001b[35m1.6956\u001b[0m  8.5037\n",
            "      6        \u001b[36m1.6556\u001b[0m       \u001b[32m0.3923\u001b[0m        \u001b[35m1.6679\u001b[0m  8.3975\n",
            "      7        \u001b[36m1.6272\u001b[0m       \u001b[32m0.4118\u001b[0m        \u001b[35m1.6227\u001b[0m  8.4142\n",
            "      8        \u001b[36m1.6061\u001b[0m       \u001b[32m0.4194\u001b[0m        \u001b[35m1.5975\u001b[0m  8.5926\n",
            "      9        \u001b[36m1.5875\u001b[0m       0.4146        1.5976  9.4106\n",
            "     10        \u001b[36m1.5706\u001b[0m       \u001b[32m0.4283\u001b[0m        \u001b[35m1.5837\u001b[0m  8.5247\n",
            "     11        \u001b[36m1.5544\u001b[0m       \u001b[32m0.4286\u001b[0m        \u001b[35m1.5701\u001b[0m  8.5465\n",
            "     12        \u001b[36m1.5415\u001b[0m       0.3656        1.7803  8.6729\n",
            "     13        \u001b[36m1.5263\u001b[0m       0.4024        1.6732  11.3805\n",
            "     14        \u001b[36m1.5180\u001b[0m       0.4232        1.5944  11.6643\n",
            "     15        \u001b[36m1.5050\u001b[0m       0.4184        1.6173  11.9321\n",
            "     16        \u001b[36m1.4906\u001b[0m       \u001b[32m0.4324\u001b[0m        1.5705  10.6959\n",
            "     17        \u001b[36m1.4830\u001b[0m       \u001b[32m0.4374\u001b[0m        \u001b[35m1.5637\u001b[0m  9.7695\n",
            "     18        \u001b[36m1.4742\u001b[0m       \u001b[32m0.4401\u001b[0m        \u001b[35m1.5571\u001b[0m  9.1306\n",
            "     19        \u001b[36m1.4693\u001b[0m       \u001b[32m0.4411\u001b[0m        \u001b[35m1.5321\u001b[0m  9.2395\n",
            "     20        \u001b[36m1.4623\u001b[0m       \u001b[32m0.4429\u001b[0m        1.5604  8.4874\n",
            "     21        \u001b[36m1.4520\u001b[0m       0.4378        1.5846  8.6886\n",
            "     22        \u001b[36m1.4475\u001b[0m       0.4306        1.6232  8.7709\n",
            "     23        \u001b[36m1.4356\u001b[0m       \u001b[32m0.4464\u001b[0m        1.5482  8.8958\n",
            "     24        \u001b[36m1.4340\u001b[0m       0.4372        1.5922  8.5705\n",
            "     25        \u001b[36m1.4292\u001b[0m       \u001b[32m0.4603\u001b[0m        \u001b[35m1.5276\u001b[0m  8.5893\n",
            "     26        \u001b[36m1.4172\u001b[0m       0.4540        1.5488  9.2090\n",
            "     27        \u001b[36m1.4140\u001b[0m       0.4513        1.5469  8.7739\n",
            "     28        \u001b[36m1.4109\u001b[0m       0.4559        1.5338  8.7279\n",
            "     29        \u001b[36m1.4060\u001b[0m       0.4597        \u001b[35m1.5139\u001b[0m  8.6909\n",
            "     30        \u001b[36m1.3977\u001b[0m       0.4374        1.5963  8.5998\n",
            "     31        \u001b[36m1.3965\u001b[0m       \u001b[32m0.4642\u001b[0m        \u001b[35m1.5009\u001b[0m  8.5772\n",
            "     32        \u001b[36m1.3926\u001b[0m       0.4575        1.5342  8.5082\n",
            "     33        \u001b[36m1.3864\u001b[0m       0.4620        1.5183  8.4655\n",
            "     34        1.3873       \u001b[32m0.4774\u001b[0m        \u001b[35m1.4784\u001b[0m  9.7116\n",
            "     35        \u001b[36m1.3794\u001b[0m       0.4670        1.4861  8.8878\n",
            "     36        \u001b[36m1.3757\u001b[0m       0.4695        1.4838  11.4243\n",
            "     37        \u001b[36m1.3697\u001b[0m       \u001b[32m0.4779\u001b[0m        1.4915  8.7505\n",
            "     38        \u001b[36m1.3688\u001b[0m       0.4635        1.5149  8.7212\n",
            "     39        1.3695       0.4661        1.4914  8.5417\n",
            "     40        \u001b[36m1.3608\u001b[0m       0.4493        1.5576  8.5625\n",
            "     41        \u001b[36m1.3597\u001b[0m       0.4741        1.4798  8.6888\n",
            "     42        1.3676       \u001b[32m0.4820\u001b[0m        \u001b[35m1.4628\u001b[0m  8.6457\n",
            "     43        \u001b[36m1.3596\u001b[0m       0.4723        1.4801  8.5798\n",
            "     44        \u001b[36m1.3559\u001b[0m       0.4724        1.4850  8.6249\n",
            "     45        \u001b[36m1.3505\u001b[0m       0.4763        1.4725  8.6494\n",
            "     46        \u001b[36m1.3485\u001b[0m       0.4780        1.4737  8.6372\n",
            "     47        \u001b[36m1.3464\u001b[0m       \u001b[32m0.4834\u001b[0m        \u001b[35m1.4576\u001b[0m  8.6884\n",
            "     48        \u001b[36m1.3438\u001b[0m       0.4827        \u001b[35m1.4550\u001b[0m  8.7124\n",
            "     49        \u001b[36m1.3405\u001b[0m       0.4620        1.5084  8.6828\n",
            "     50        1.3427       0.4775        1.4682  8.5796\n"
          ]
        },
        {
          "output_type": "execute_result",
          "data": {
            "text/plain": [
              "<class 'skorch.classifier.NeuralNetClassifier'>[initialized](\n",
              "  module_=CNNLarge(\n",
              "    (cnn_layers): Sequential(\n",
              "      (0): Conv2d(3, 4, kernel_size=(3, 3), stride=(1, 1), padding=(1, 1))\n",
              "      (1): ReLU(inplace=True)\n",
              "      (2): MaxPool2d(kernel_size=2, stride=2, padding=0, dilation=1, ceil_mode=False)\n",
              "      (3): Conv2d(4, 4, kernel_size=(3, 3), stride=(1, 1), padding=(1, 1))\n",
              "      (4): ReLU(inplace=True)\n",
              "      (5): MaxPool2d(kernel_size=2, stride=2, padding=0, dilation=1, ceil_mode=False)\n",
              "      (6): Conv2d(4, 8, kernel_size=(3, 3), stride=(1, 1), padding=(1, 1))\n",
              "      (7): ReLU(inplace=True)\n",
              "      (8): MaxPool2d(kernel_size=2, stride=2, padding=0, dilation=1, ceil_mode=False)\n",
              "      (9): Conv2d(8, 16, kernel_size=(3, 3), stride=(1, 1), padding=(1, 1))\n",
              "      (10): ReLU(inplace=True)\n",
              "      (11): MaxPool2d(kernel_size=2, stride=2, padding=0, dilation=1, ceil_mode=False)\n",
              "      (12): Conv2d(16, 32, kernel_size=(3, 3), stride=(1, 1), padding=(1, 1))\n",
              "      (13): ReLU(inplace=True)\n",
              "      (14): MaxPool2d(kernel_size=2, stride=2, padding=0, dilation=1, ceil_mode=False)\n",
              "    )\n",
              "    (linear_layers): Sequential(\n",
              "      (0): Linear(in_features=32, out_features=10, bias=True)\n",
              "    )\n",
              "  ),\n",
              ")"
            ]
          },
          "metadata": {},
          "execution_count": 9
        }
      ]
    },
    {
      "cell_type": "markdown",
      "source": [
        "Using a larger architecture, I could obtain much better loss of 1.4682. This clearly proves that this problem requires complexity and using bigger models can give better results"
      ],
      "metadata": {
        "id": "ktyR3dDGvWPW"
      }
    },
    {
      "cell_type": "code",
      "source": [],
      "metadata": {
        "id": "e1dizuKGRlIx"
      },
      "execution_count": null,
      "outputs": []
    }
  ]
}